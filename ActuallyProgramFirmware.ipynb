{
 "cells": [
  {
   "cell_type": "markdown",
   "id": "71764e99",
   "metadata": {},
   "source": [
    "## Update Firmware\n",
    "\n",
    "The CWLite needed new firmware. This was a pain. Start by shorting 'erase' pins while plugging in the CW to USB. \n",
    "\n",
    "Then, as follows:"
   ]
  },
  {
   "cell_type": "code",
   "execution_count": 2,
   "id": "bf58ce78",
   "metadata": {
    "scrolled": true
   },
   "outputs": [
    {
     "name": "stdout",
     "output_type": "stream",
     "text": [
      "Collecting libusb1\n",
      "  Downloading libusb1-2.0.1-py3-none-any.whl (61 kB)\n",
      "\u001b[K     |████████████████████████████████| 61 kB 248 kB/s eta 0:00:01\n",
      "\u001b[?25hInstalling collected packages: libusb1\n",
      "Successfully installed libusb1-2.0.1\n",
      "\u001b[33mWARNING: You are using pip version 21.1.1; however, version 21.3.1 is available.\n",
      "You should consider upgrading via the '/home/vagrant/.pyenv/versions/3.7.7/envs/cw/bin/python3.7 -m pip install --upgrade pip' command.\u001b[0m\n"
     ]
    }
   ],
   "source": [
    "# Only if it complains about a missing library\n",
    "#!pip install libusb1\n"
   ]
  },
  {
   "cell_type": "markdown",
   "id": "736003ff",
   "metadata": {},
   "source": [
    "See https://forum.newae.com/t/after-reseting-the-firmware-the-usb-device-is-not-found-anymore/2599/3 for this code...\n",
    "\n",
    "Otherwise `cw.program_sam_firmware` is not defined...\n"
   ]
  },
  {
   "cell_type": "code",
   "execution_count": 3,
   "id": "f8b6b836",
   "metadata": {},
   "outputs": [
    {
     "name": "stdout",
     "output_type": "stream",
     "text": [
      "Found /dev/ttyACM0\n",
      "Loading cwlite firmware...\n",
      "Opened!\n",
      "Connecting...\n",
      "Connected!\n",
      "Erasing...\n",
      "Erased!\n",
      "Programming file SAM3U_CW1173.bin...\n",
      "Programmed!\n",
      "Verifying...\n",
      "Verify OK!\n",
      "Resetting...\n",
      "Upgrade successful\n"
     ]
    }
   ],
   "source": [
    "\n",
    "def get_at91_ports():\n",
    "    from serial.tools import list_ports\n",
    "\n",
    "    at91_ports = [port.device for port in list_ports.comports() if (port.vid, port.pid) == (0x03EB, 0x6124)]\n",
    "    return at91_ports\n",
    "\n",
    "import chipwhisperer as cw\n",
    "def program_sam_firmware(hardware_type=None):\n",
    "    at91_ports = get_at91_ports()\n",
    "    if len(at91_ports) == 0:\n",
    "        raise OSError(\"Could not find bootloader serial port, please see https://chipwhisperer.readthedocs.io/en/latest/firmware.html\")\n",
    "    if len(at91_ports) > 1:\n",
    "        raise OSError(\"Found multiple bootloaders, please specify com port. See https://chipwhisperer.readthedocs.io/en/latest/firmware.html\")\n",
    "\n",
    "    serial_port = at91_ports[0]\n",
    "    print(\"Found {}\".format(serial_port))\n",
    "    prog = cw.SAMFWLoader(None)\n",
    "    prog.program(serial_port, hardware_type=hardware_type)\n",
    "\n",
    "program_sam_firmware(\"cwlite\")\n"
   ]
  },
  {
   "cell_type": "code",
   "execution_count": null,
   "id": "16b6843a",
   "metadata": {},
   "outputs": [],
   "source": []
  }
 ],
 "metadata": {
  "kernelspec": {
   "display_name": "Python 3",
   "language": "python",
   "name": "python3"
  },
  "language_info": {
   "codemirror_mode": {
    "name": "ipython",
    "version": 3
   },
   "file_extension": ".py",
   "mimetype": "text/x-python",
   "name": "python",
   "nbconvert_exporter": "python",
   "pygments_lexer": "ipython3",
   "version": "3.7.7"
  },
  "toc": {
   "base_numbering": 1,
   "nav_menu": {},
   "number_sections": true,
   "sideBar": true,
   "skip_h1_title": false,
   "title_cell": "Table of Contents",
   "title_sidebar": "Contents",
   "toc_cell": false,
   "toc_position": {},
   "toc_section_display": true,
   "toc_window_display": false
  }
 },
 "nbformat": 4,
 "nbformat_minor": 5
}
